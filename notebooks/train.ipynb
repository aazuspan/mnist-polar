{
 "cells": [
  {
   "cell_type": "code",
   "execution_count": 1,
   "metadata": {},
   "outputs": [],
   "source": [
    "import matplotlib.pyplot as plt\n",
    "import numpy as np\n",
    "import torch\n",
    "\n",
    "from polar_mnist.io import get_train_loader, get_test_loader\n",
    "from polar_mnist.model import CNN1D, train_model, test_model"
   ]
  },
  {
   "cell_type": "markdown",
   "metadata": {},
   "source": [
    "## Train the Model"
   ]
  },
  {
   "cell_type": "code",
   "execution_count": 2,
   "metadata": {},
   "outputs": [],
   "source": [
    "train = get_train_loader(batch_size=64, shuffle=True)\n",
    "test = get_test_loader(batch_size=64)"
   ]
  },
  {
   "cell_type": "code",
   "execution_count": 3,
   "metadata": {},
   "outputs": [
    {
     "name": "stdout",
     "output_type": "stream",
     "text": [
      "Epoch [1/10], Step [100/938], Train loss: 1.5979\n",
      "Epoch [1/10], Step [200/938], Train loss: 1.5506\n",
      "Epoch [1/10], Step [300/938], Train loss: 1.6327\n",
      "Epoch [1/10], Step [400/938], Train loss: 1.5910\n",
      "Epoch [1/10], Step [500/938], Train loss: 1.5493\n",
      "Epoch [1/10], Step [600/938], Train loss: 1.5835\n",
      "Epoch [1/10], Step [700/938], Train loss: 1.5110\n",
      "Epoch [1/10], Step [800/938], Train loss: 1.5173\n",
      "Epoch [1/10], Step [900/938], Train loss: 1.5870\n",
      "Epoch [2/10], Step [100/938], Train loss: 1.5513\n",
      "Epoch [2/10], Step [200/938], Train loss: 1.5819\n",
      "Epoch [2/10], Step [300/938], Train loss: 1.5228\n",
      "Epoch [2/10], Step [400/938], Train loss: 1.5473\n",
      "Epoch [2/10], Step [500/938], Train loss: 1.5285\n",
      "Epoch [2/10], Step [600/938], Train loss: 1.5729\n",
      "Epoch [2/10], Step [700/938], Train loss: 1.6071\n",
      "Epoch [2/10], Step [800/938], Train loss: 1.5236\n",
      "Epoch [2/10], Step [900/938], Train loss: 1.5830\n",
      "Epoch [3/10], Step [100/938], Train loss: 1.4917\n",
      "Epoch [3/10], Step [200/938], Train loss: 1.5664\n",
      "Epoch [3/10], Step [300/938], Train loss: 1.5194\n",
      "Epoch [3/10], Step [400/938], Train loss: 1.4983\n",
      "Epoch [3/10], Step [500/938], Train loss: 1.5135\n",
      "Epoch [3/10], Step [600/938], Train loss: 1.5672\n",
      "Epoch [3/10], Step [700/938], Train loss: 1.5395\n",
      "Epoch [3/10], Step [800/938], Train loss: 1.5833\n",
      "Epoch [3/10], Step [900/938], Train loss: 1.4780\n",
      "Epoch [4/10], Step [100/938], Train loss: 1.4963\n",
      "Epoch [4/10], Step [200/938], Train loss: 1.5239\n",
      "Epoch [4/10], Step [300/938], Train loss: 1.5225\n",
      "Epoch [4/10], Step [400/938], Train loss: 1.5265\n",
      "Epoch [4/10], Step [500/938], Train loss: 1.4835\n",
      "Epoch [4/10], Step [600/938], Train loss: 1.5304\n",
      "Epoch [4/10], Step [700/938], Train loss: 1.4969\n",
      "Epoch [4/10], Step [800/938], Train loss: 1.5349\n",
      "Epoch [4/10], Step [900/938], Train loss: 1.5281\n",
      "Epoch [5/10], Step [100/938], Train loss: 1.5228\n",
      "Epoch [5/10], Step [200/938], Train loss: 1.5113\n",
      "Epoch [5/10], Step [300/938], Train loss: 1.4958\n",
      "Epoch [5/10], Step [400/938], Train loss: 1.5290\n",
      "Epoch [5/10], Step [500/938], Train loss: 1.4928\n",
      "Epoch [5/10], Step [600/938], Train loss: 1.5051\n",
      "Epoch [5/10], Step [700/938], Train loss: 1.5099\n",
      "Epoch [5/10], Step [800/938], Train loss: 1.5129\n",
      "Epoch [5/10], Step [900/938], Train loss: 1.4886\n",
      "Epoch [6/10], Step [100/938], Train loss: 1.4944\n",
      "Epoch [6/10], Step [200/938], Train loss: 1.5336\n",
      "Epoch [6/10], Step [300/938], Train loss: 1.4926\n",
      "Epoch [6/10], Step [400/938], Train loss: 1.5482\n",
      "Epoch [6/10], Step [500/938], Train loss: 1.4921\n",
      "Epoch [6/10], Step [600/938], Train loss: 1.5531\n",
      "Epoch [6/10], Step [700/938], Train loss: 1.5101\n",
      "Epoch [6/10], Step [800/938], Train loss: 1.5341\n",
      "Epoch [6/10], Step [900/938], Train loss: 1.5187\n",
      "Epoch [7/10], Step [100/938], Train loss: 1.5150\n",
      "Epoch [7/10], Step [200/938], Train loss: 1.5076\n",
      "Epoch [7/10], Step [300/938], Train loss: 1.4911\n",
      "Epoch [7/10], Step [400/938], Train loss: 1.5023\n",
      "Epoch [7/10], Step [500/938], Train loss: 1.4968\n",
      "Epoch [7/10], Step [600/938], Train loss: 1.5389\n",
      "Epoch [7/10], Step [700/938], Train loss: 1.5574\n",
      "Epoch [7/10], Step [800/938], Train loss: 1.5081\n",
      "Epoch [7/10], Step [900/938], Train loss: 1.5084\n",
      "Epoch [8/10], Step [100/938], Train loss: 1.5190\n",
      "Epoch [8/10], Step [200/938], Train loss: 1.5005\n",
      "Epoch [8/10], Step [300/938], Train loss: 1.5348\n",
      "Epoch [8/10], Step [400/938], Train loss: 1.5604\n",
      "Epoch [8/10], Step [500/938], Train loss: 1.4924\n",
      "Epoch [8/10], Step [600/938], Train loss: 1.5475\n",
      "Epoch [8/10], Step [700/938], Train loss: 1.4669\n",
      "Epoch [8/10], Step [800/938], Train loss: 1.5398\n",
      "Epoch [8/10], Step [900/938], Train loss: 1.5231\n",
      "Epoch [9/10], Step [100/938], Train loss: 1.5535\n",
      "Epoch [9/10], Step [200/938], Train loss: 1.4925\n",
      "Epoch [9/10], Step [300/938], Train loss: 1.5036\n",
      "Epoch [9/10], Step [400/938], Train loss: 1.5392\n",
      "Epoch [9/10], Step [500/938], Train loss: 1.5170\n",
      "Epoch [9/10], Step [600/938], Train loss: 1.5238\n",
      "Epoch [9/10], Step [700/938], Train loss: 1.4929\n",
      "Epoch [9/10], Step [800/938], Train loss: 1.5219\n",
      "Epoch [9/10], Step [900/938], Train loss: 1.5083\n",
      "Epoch [10/10], Step [100/938], Train loss: 1.5381\n",
      "Epoch [10/10], Step [200/938], Train loss: 1.5010\n",
      "Epoch [10/10], Step [300/938], Train loss: 1.5596\n",
      "Epoch [10/10], Step [400/938], Train loss: 1.5570\n",
      "Epoch [10/10], Step [500/938], Train loss: 1.5236\n",
      "Epoch [10/10], Step [600/938], Train loss: 1.4939\n",
      "Epoch [10/10], Step [700/938], Train loss: 1.5745\n",
      "Epoch [10/10], Step [800/938], Train loss: 1.5123\n",
      "Epoch [10/10], Step [900/938], Train loss: 1.5231\n"
     ]
    }
   ],
   "source": [
    "model = CNN1D()\n",
    "train_model(\n",
    "    model,\n",
    "    train_loader=train,\n",
    "    num_epochs=10,\n",
    "    learning_rate=0.001,\n",
    ");"
   ]
  },
  {
   "cell_type": "markdown",
   "metadata": {},
   "source": [
    "## Check Test Accuracy"
   ]
  },
  {
   "cell_type": "code",
   "execution_count": 4,
   "metadata": {},
   "outputs": [
    {
     "name": "stdout",
     "output_type": "stream",
     "text": [
      "Test Accuracy: 95.23%\n"
     ]
    }
   ],
   "source": [
    "test_model(model, test_loader=test);"
   ]
  },
  {
   "cell_type": "markdown",
   "metadata": {},
   "source": [
    "## Plot Confusion Matrix"
   ]
  },
  {
   "cell_type": "code",
   "execution_count": 5,
   "metadata": {},
   "outputs": [],
   "source": [
    "confusion_matrix = torch.zeros(10, 10)\n",
    "with torch.no_grad():\n",
    "    for i, (imgs, labels) in enumerate(test):\n",
    "        outputs = model(imgs)\n",
    "        _, preds = torch.max(outputs, 1)\n",
    "        for t, p in zip(labels.view(-1), preds.view(-1)):\n",
    "            confusion_matrix[t.long(), p.long()] += 1"
   ]
  },
  {
   "cell_type": "code",
   "execution_count": 6,
   "metadata": {},
   "outputs": [
    {
     "data": {
      "image/png": "[encoded data removed]",
      "text/plain": [
       "<Figure size 640x480 with 1 Axes>"
      ]
     },
     "metadata": {},
     "output_type": "display_data"
    }
   ],
   "source": [
    "fig, ax = plt.subplots()\n",
    "cax = ax.matshow(confusion_matrix, cmap=\"viridis\")\n",
    "\n",
    "for (i, j), val in np.ndenumerate(confusion_matrix):\n",
    "    ax.text(\n",
    "        j, i, f\"{val:.0f}\", ha=\"center\", va=\"center\", color=\"grey\", fontweight=\"normal\"\n",
    "    )\n",
    "\n",
    "ax.set_xticks(range(10))\n",
    "ax.set_yticks(range(10))\n",
    "ax.tick_params(length=0)\n",
    "ax.set_xlabel(\"Predicted\")\n",
    "ax.set_ylabel(\"True\")\n",
    "ax.xaxis.set_ticks_position(\"bottom\")"
   ]
  }
 ],
 "metadata": {
  "kernelspec": {
   "display_name": ".venv",
   "language": "python",
   "name": "python3"
  },
  "language_info": {
   "codemirror_mode": {
    "name": "ipython",
    "version": 3
   },
   "file_extension": ".py",
   "mimetype": "text/x-python",
   "name": "python",
   "nbconvert_exporter": "python",
   "pygments_lexer": "ipython3",
   "version": "3.12.8"
  }
 },
 "nbformat": 4,
 "nbformat_minor": 2
}
